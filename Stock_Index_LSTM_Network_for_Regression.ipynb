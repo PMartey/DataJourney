{
  "nbformat": 4,
  "nbformat_minor": 0,
  "metadata": {
    "colab": {
      "provenance": [],
      "mount_file_id": "1a-ufP_Kp-wjCLe7TD2XbfaMHuMxW_pAb",
      "authorship_tag": "ABX9TyPCOYE8EduAxDsiQ4WNwDw0",
      "include_colab_link": true
    },
    "kernelspec": {
      "name": "python3",
      "display_name": "Python 3"
    },
    "language_info": {
      "name": "python"
    }
  },
  "cells": [
    {
      "cell_type": "markdown",
      "metadata": {
        "id": "view-in-github",
        "colab_type": "text"
      },
      "source": [
        "<a href=\"https://colab.research.google.com/github/PMartey/DataJourney/blob/main/Stock_Index_LSTM_Network_for_Regression.ipynb\" target=\"_parent\"><img src=\"https://colab.research.google.com/assets/colab-badge.svg\" alt=\"Open In Colab\"/></a>"
      ]
    },
    {
      "cell_type": "markdown",
      "source": [
        "This project involves accessing either yahoo.com or other stock index resources and pulling up and studying the stock index dataset available.  Then training your RNN model on this dataset and making a prediction about whether the stock will rise or fall over the next day or week.  You might also look at predicting a value.\n",
        "\n",
        "We will be using **Uber Technologies, Inc.** for this project\n",
        "\n",
        "Data will range from: 05/10/2019 to 11/13/2023\n",
        "\n",
        "Using Daily closing prices.\n",
        "\n",
        "Link to data : \"https://finance.yahoo.com/quote/UBER/history?p=UBER\""
      ],
      "metadata": {
        "id": "W9JGoUHHXe3j"
      }
    },
    {
      "cell_type": "markdown",
      "source": [
        "# Import Libraries\n"
      ],
      "metadata": {
        "id": "98H3IfdsXsi9"
      }
    },
    {
      "cell_type": "code",
      "source": [
        "import pandas as pd\n",
        "import numpy as np\n",
        "import matplotlib.pyplot as plt\n",
        "import tensorflow as tf\n",
        "from tensorflow.keras.models import Sequential\n",
        "from tensorflow.keras.layers import Dense, LSTM, Dropout\n",
        "from sklearn.preprocessing import MinMaxScaler\n",
        "from sklearn.metrics import mean_squared_error"
      ],
      "metadata": {
        "id": "4X1LLPwVXjUa"
      },
      "execution_count": null,
      "outputs": []
    },
    {
      "cell_type": "markdown",
      "source": [
        "# Fix the random seed for reproductivity\n"
      ],
      "metadata": {
        "id": "3waLMmIXYEeO"
      }
    },
    {
      "cell_type": "code",
      "source": [
        "tf.random.set_seed(7)"
      ],
      "metadata": {
        "id": "KvHOvcAhX-mZ"
      },
      "execution_count": null,
      "outputs": []
    },
    {
      "cell_type": "markdown",
      "source": [
        "# Load dataset as Pandas Dataframe\n",
        "and then extract the NumPy array from the data frame"
      ],
      "metadata": {
        "id": "0VbnnmBcY-5L"
      }
    },
    {
      "cell_type": "code",
      "source": [
        "dataframe = pd.read_csv('/content/drive/MyDrive/Stock market 11-23/UBER.csv', usecols= [4], engine='python')\n",
        "dataset = dataframe.values\n",
        "dataset = dataset.astype('float32')"
      ],
      "metadata": {
        "id": "nCxHa872YV9u"
      },
      "execution_count": null,
      "outputs": []
    },
    {
      "cell_type": "markdown",
      "source": [
        "# Normalize the dataset with MinMas=xScaler"
      ],
      "metadata": {
        "id": "8Ya5Uw3uYfpw"
      }
    },
    {
      "cell_type": "code",
      "source": [
        "scaler = MinMaxScaler(feature_range=(0, 1))\n",
        "dataset = scaler.fit_transform(dataset)"
      ],
      "metadata": {
        "id": "-hCrqgSMZnL7"
      },
      "execution_count": null,
      "outputs": []
    },
    {
      "cell_type": "markdown",
      "source": [
        "# Split into train and test sets"
      ],
      "metadata": {
        "id": "pct-98DaZpIj"
      }
    },
    {
      "cell_type": "code",
      "source": [
        "train_size = int(len(dataset) * 0.67)\n",
        "test_size = len(dataset) - train_size\n",
        "train, test = dataset[0:train_size,:], dataset[train_size:len(dataset),:]\n",
        "print(len(train), len(test))"
      ],
      "metadata": {
        "colab": {
          "base_uri": "https://localhost:8080/"
        },
        "id": "ZiKckm8yZvfR",
        "outputId": "8c1a4439-5d7a-4d6c-e635-790f087359fe"
      },
      "execution_count": null,
      "outputs": [
        {
          "output_type": "stream",
          "name": "stdout",
          "text": [
            "761 376\n"
          ]
        }
      ]
    },
    {
      "cell_type": "markdown",
      "source": [
        "# Convert an array of values into a dataset matrix"
      ],
      "metadata": {
        "id": "bDIYYh1IZ4kr"
      }
    },
    {
      "cell_type": "code",
      "source": [
        "from keras.api._v2.keras import datasets\n",
        "def create_dataset(dataset, look_back=1):\n",
        "    dataX, dataY = [], []\n",
        "    for i in range(len(dataset)-look_back-1):\n",
        "        a = dataset[i:(i+look_back), 0]\n",
        "        dataX.append(a)\n",
        "        dataY.append(dataset[i + look_back, 0])\n",
        "    return np.array(dataX), np.array(dataY)"
      ],
      "metadata": {
        "id": "S9EezpwaaiR4"
      },
      "execution_count": null,
      "outputs": []
    },
    {
      "cell_type": "markdown",
      "source": [
        "# Reshape into X = t and Y = t+1\n",
        "To prepare the train and test datasets\n"
      ],
      "metadata": {
        "id": "qyO-vMy0auz1"
      }
    },
    {
      "cell_type": "code",
      "source": [
        "look_back = 1\n",
        "trainX, trainY = create_dataset(train, look_back)\n",
        "testX, testY = create_dataset(test, look_back)"
      ],
      "metadata": {
        "id": "qHw7EA6WcU9J"
      },
      "execution_count": null,
      "outputs": []
    },
    {
      "cell_type": "markdown",
      "source": [
        "Reshape input again to be [Samples, time steps, features].\n"
      ],
      "metadata": {
        "id": "evtzLpLTd8oQ"
      }
    },
    {
      "cell_type": "code",
      "source": [
        "trainX = np.reshape(trainX, (trainX.shape[0], 1, trainX.shape[1]))\n",
        "testX = np.reshape(testX, (testX.shape[0], 1, testX.shape[1]))"
      ],
      "metadata": {
        "id": "lStiZ66ueMos"
      },
      "execution_count": null,
      "outputs": []
    },
    {
      "cell_type": "markdown",
      "source": [
        "# Create and fit the LSTM network"
      ],
      "metadata": {
        "id": "moras4PfcaA6"
      }
    },
    {
      "cell_type": "code",
      "source": [
        "model = Sequential()\n",
        "model.add(LSTM(4, input_shape=(1, look_back)))\n",
        "model.add(Dense(1))\n",
        "model.compile(loss='mean_squared_error', optimizer='adam')\n",
        "model.fit(trainX, trainY, epochs=100, batch_size=1, verbose=2)"
      ],
      "metadata": {
        "id": "Lm6IN_KkcjEI",
        "colab": {
          "base_uri": "https://localhost:8080/"
        },
        "outputId": "c59daa79-09cc-43aa-eb4f-72056d804e43"
      },
      "execution_count": null,
      "outputs": [
        {
          "output_type": "stream",
          "name": "stdout",
          "text": [
            "Epoch 1/100\n",
            "759/759 - 4s - loss: 0.0635 - 4s/epoch - 5ms/step\n",
            "Epoch 2/100\n",
            "759/759 - 2s - loss: 0.0133 - 2s/epoch - 2ms/step\n",
            "Epoch 3/100\n",
            "759/759 - 2s - loss: 0.0044 - 2s/epoch - 3ms/step\n",
            "Epoch 4/100\n",
            "759/759 - 2s - loss: 9.5534e-04 - 2s/epoch - 3ms/step\n",
            "Epoch 5/100\n",
            "759/759 - 2s - loss: 7.7448e-04 - 2s/epoch - 3ms/step\n",
            "Epoch 6/100\n",
            "759/759 - 2s - loss: 7.6500e-04 - 2s/epoch - 3ms/step\n",
            "Epoch 7/100\n",
            "759/759 - 1s - loss: 7.8897e-04 - 1s/epoch - 2ms/step\n",
            "Epoch 8/100\n",
            "759/759 - 2s - loss: 7.9974e-04 - 2s/epoch - 2ms/step\n",
            "Epoch 9/100\n",
            "759/759 - 1s - loss: 7.6731e-04 - 1s/epoch - 2ms/step\n",
            "Epoch 10/100\n",
            "759/759 - 2s - loss: 7.8923e-04 - 2s/epoch - 2ms/step\n",
            "Epoch 11/100\n",
            "759/759 - 2s - loss: 7.9738e-04 - 2s/epoch - 2ms/step\n",
            "Epoch 12/100\n",
            "759/759 - 2s - loss: 7.9245e-04 - 2s/epoch - 2ms/step\n",
            "Epoch 13/100\n",
            "759/759 - 2s - loss: 7.9606e-04 - 2s/epoch - 3ms/step\n",
            "Epoch 14/100\n",
            "759/759 - 3s - loss: 7.9068e-04 - 3s/epoch - 3ms/step\n",
            "Epoch 15/100\n",
            "759/759 - 3s - loss: 7.8120e-04 - 3s/epoch - 3ms/step\n",
            "Epoch 16/100\n",
            "759/759 - 1s - loss: 7.8539e-04 - 1s/epoch - 2ms/step\n",
            "Epoch 17/100\n",
            "759/759 - 1s - loss: 7.8138e-04 - 1s/epoch - 2ms/step\n",
            "Epoch 18/100\n",
            "759/759 - 2s - loss: 8.0187e-04 - 2s/epoch - 2ms/step\n",
            "Epoch 19/100\n",
            "759/759 - 1s - loss: 7.7905e-04 - 1s/epoch - 2ms/step\n",
            "Epoch 20/100\n",
            "759/759 - 1s - loss: 7.8010e-04 - 1s/epoch - 2ms/step\n",
            "Epoch 21/100\n",
            "759/759 - 2s - loss: 7.9162e-04 - 2s/epoch - 2ms/step\n",
            "Epoch 22/100\n",
            "759/759 - 2s - loss: 7.8110e-04 - 2s/epoch - 2ms/step\n",
            "Epoch 23/100\n",
            "759/759 - 2s - loss: 7.9092e-04 - 2s/epoch - 3ms/step\n",
            "Epoch 24/100\n",
            "759/759 - 2s - loss: 7.7231e-04 - 2s/epoch - 3ms/step\n",
            "Epoch 25/100\n",
            "759/759 - 2s - loss: 7.8713e-04 - 2s/epoch - 3ms/step\n",
            "Epoch 26/100\n",
            "759/759 - 1s - loss: 7.8778e-04 - 1s/epoch - 2ms/step\n",
            "Epoch 27/100\n",
            "759/759 - 1s - loss: 7.8409e-04 - 1s/epoch - 2ms/step\n",
            "Epoch 28/100\n",
            "759/759 - 2s - loss: 7.8684e-04 - 2s/epoch - 2ms/step\n",
            "Epoch 29/100\n",
            "759/759 - 2s - loss: 7.8364e-04 - 2s/epoch - 2ms/step\n",
            "Epoch 30/100\n",
            "759/759 - 2s - loss: 8.1271e-04 - 2s/epoch - 2ms/step\n",
            "Epoch 31/100\n",
            "759/759 - 1s - loss: 7.7883e-04 - 1s/epoch - 2ms/step\n",
            "Epoch 32/100\n",
            "759/759 - 2s - loss: 8.0243e-04 - 2s/epoch - 3ms/step\n",
            "Epoch 33/100\n",
            "759/759 - 2s - loss: 7.9549e-04 - 2s/epoch - 3ms/step\n",
            "Epoch 34/100\n",
            "759/759 - 3s - loss: 7.8138e-04 - 3s/epoch - 4ms/step\n",
            "Epoch 35/100\n",
            "759/759 - 1s - loss: 7.7498e-04 - 1s/epoch - 2ms/step\n",
            "Epoch 36/100\n",
            "759/759 - 1s - loss: 7.8650e-04 - 1s/epoch - 2ms/step\n",
            "Epoch 37/100\n",
            "759/759 - 2s - loss: 8.0328e-04 - 2s/epoch - 2ms/step\n",
            "Epoch 38/100\n",
            "759/759 - 1s - loss: 7.7800e-04 - 1s/epoch - 2ms/step\n",
            "Epoch 39/100\n",
            "759/759 - 1s - loss: 8.1948e-04 - 1s/epoch - 2ms/step\n",
            "Epoch 40/100\n",
            "759/759 - 1s - loss: 7.8972e-04 - 1s/epoch - 2ms/step\n",
            "Epoch 41/100\n",
            "759/759 - 2s - loss: 7.9884e-04 - 2s/epoch - 2ms/step\n",
            "Epoch 42/100\n",
            "759/759 - 2s - loss: 7.8417e-04 - 2s/epoch - 3ms/step\n",
            "Epoch 43/100\n",
            "759/759 - 2s - loss: 7.7750e-04 - 2s/epoch - 3ms/step\n",
            "Epoch 44/100\n",
            "759/759 - 2s - loss: 7.9310e-04 - 2s/epoch - 3ms/step\n",
            "Epoch 45/100\n",
            "759/759 - 2s - loss: 7.7342e-04 - 2s/epoch - 2ms/step\n",
            "Epoch 46/100\n",
            "759/759 - 1s - loss: 7.9048e-04 - 1s/epoch - 2ms/step\n",
            "Epoch 47/100\n",
            "759/759 - 1s - loss: 8.0983e-04 - 1s/epoch - 2ms/step\n",
            "Epoch 48/100\n",
            "759/759 - 2s - loss: 7.9927e-04 - 2s/epoch - 2ms/step\n",
            "Epoch 49/100\n",
            "759/759 - 1s - loss: 7.6527e-04 - 1s/epoch - 2ms/step\n",
            "Epoch 50/100\n",
            "759/759 - 1s - loss: 7.7671e-04 - 1s/epoch - 2ms/step\n",
            "Epoch 51/100\n",
            "759/759 - 2s - loss: 7.8675e-04 - 2s/epoch - 2ms/step\n",
            "Epoch 52/100\n",
            "759/759 - 2s - loss: 7.8149e-04 - 2s/epoch - 3ms/step\n",
            "Epoch 53/100\n",
            "759/759 - 2s - loss: 7.9850e-04 - 2s/epoch - 3ms/step\n",
            "Epoch 54/100\n",
            "759/759 - 2s - loss: 8.0293e-04 - 2s/epoch - 2ms/step\n",
            "Epoch 55/100\n",
            "759/759 - 1s - loss: 7.7857e-04 - 1s/epoch - 2ms/step\n",
            "Epoch 56/100\n",
            "759/759 - 1s - loss: 8.0786e-04 - 1s/epoch - 2ms/step\n",
            "Epoch 57/100\n",
            "759/759 - 1s - loss: 7.7958e-04 - 1s/epoch - 2ms/step\n",
            "Epoch 58/100\n",
            "759/759 - 1s - loss: 7.8258e-04 - 1s/epoch - 2ms/step\n",
            "Epoch 59/100\n",
            "759/759 - 1s - loss: 7.7240e-04 - 1s/epoch - 2ms/step\n",
            "Epoch 60/100\n",
            "759/759 - 1s - loss: 7.8215e-04 - 1s/epoch - 2ms/step\n",
            "Epoch 61/100\n",
            "759/759 - 2s - loss: 8.0916e-04 - 2s/epoch - 2ms/step\n",
            "Epoch 62/100\n",
            "759/759 - 2s - loss: 7.8179e-04 - 2s/epoch - 3ms/step\n",
            "Epoch 63/100\n",
            "759/759 - 2s - loss: 7.8728e-04 - 2s/epoch - 3ms/step\n",
            "Epoch 64/100\n",
            "759/759 - 2s - loss: 7.8232e-04 - 2s/epoch - 2ms/step\n",
            "Epoch 65/100\n",
            "759/759 - 1s - loss: 7.8344e-04 - 1s/epoch - 2ms/step\n",
            "Epoch 66/100\n",
            "759/759 - 1s - loss: 7.8564e-04 - 1s/epoch - 2ms/step\n",
            "Epoch 67/100\n",
            "759/759 - 1s - loss: 7.6697e-04 - 1s/epoch - 2ms/step\n",
            "Epoch 68/100\n",
            "759/759 - 1s - loss: 7.7994e-04 - 1s/epoch - 2ms/step\n",
            "Epoch 69/100\n",
            "759/759 - 1s - loss: 7.8519e-04 - 1s/epoch - 2ms/step\n",
            "Epoch 70/100\n",
            "759/759 - 1s - loss: 7.7808e-04 - 1s/epoch - 2ms/step\n",
            "Epoch 71/100\n",
            "759/759 - 2s - loss: 7.9532e-04 - 2s/epoch - 2ms/step\n",
            "Epoch 72/100\n",
            "759/759 - 2s - loss: 7.7574e-04 - 2s/epoch - 3ms/step\n",
            "Epoch 73/100\n",
            "759/759 - 2s - loss: 7.8275e-04 - 2s/epoch - 3ms/step\n",
            "Epoch 74/100\n",
            "759/759 - 2s - loss: 7.9364e-04 - 2s/epoch - 2ms/step\n",
            "Epoch 75/100\n",
            "759/759 - 1s - loss: 7.8367e-04 - 1s/epoch - 2ms/step\n",
            "Epoch 76/100\n",
            "759/759 - 1s - loss: 7.8462e-04 - 1s/epoch - 2ms/step\n",
            "Epoch 77/100\n",
            "759/759 - 1s - loss: 7.9155e-04 - 1s/epoch - 2ms/step\n",
            "Epoch 78/100\n",
            "759/759 - 2s - loss: 7.6209e-04 - 2s/epoch - 3ms/step\n",
            "Epoch 79/100\n",
            "759/759 - 2s - loss: 7.9008e-04 - 2s/epoch - 2ms/step\n",
            "Epoch 80/100\n",
            "759/759 - 1s - loss: 7.8609e-04 - 1s/epoch - 2ms/step\n",
            "Epoch 81/100\n",
            "759/759 - 2s - loss: 7.9435e-04 - 2s/epoch - 3ms/step\n",
            "Epoch 82/100\n",
            "759/759 - 2s - loss: 8.1482e-04 - 2s/epoch - 3ms/step\n",
            "Epoch 83/100\n",
            "759/759 - 2s - loss: 7.8821e-04 - 2s/epoch - 3ms/step\n",
            "Epoch 84/100\n",
            "759/759 - 1s - loss: 7.7760e-04 - 1s/epoch - 2ms/step\n",
            "Epoch 85/100\n",
            "759/759 - 1s - loss: 7.8042e-04 - 1s/epoch - 2ms/step\n",
            "Epoch 86/100\n",
            "759/759 - 1s - loss: 7.8550e-04 - 1s/epoch - 2ms/step\n",
            "Epoch 87/100\n",
            "759/759 - 1s - loss: 7.8139e-04 - 1s/epoch - 2ms/step\n",
            "Epoch 88/100\n",
            "759/759 - 1s - loss: 7.7690e-04 - 1s/epoch - 2ms/step\n",
            "Epoch 89/100\n",
            "759/759 - 1s - loss: 7.7956e-04 - 1s/epoch - 2ms/step\n",
            "Epoch 90/100\n",
            "759/759 - 1s - loss: 7.7610e-04 - 1s/epoch - 2ms/step\n",
            "Epoch 91/100\n",
            "759/759 - 2s - loss: 7.9069e-04 - 2s/epoch - 3ms/step\n",
            "Epoch 92/100\n",
            "759/759 - 2s - loss: 7.8802e-04 - 2s/epoch - 3ms/step\n",
            "Epoch 93/100\n",
            "759/759 - 2s - loss: 7.8482e-04 - 2s/epoch - 3ms/step\n",
            "Epoch 94/100\n",
            "759/759 - 2s - loss: 7.7348e-04 - 2s/epoch - 2ms/step\n",
            "Epoch 95/100\n",
            "759/759 - 2s - loss: 7.8880e-04 - 2s/epoch - 2ms/step\n",
            "Epoch 96/100\n",
            "759/759 - 1s - loss: 7.8688e-04 - 1s/epoch - 2ms/step\n",
            "Epoch 97/100\n",
            "759/759 - 1s - loss: 7.9197e-04 - 1s/epoch - 2ms/step\n",
            "Epoch 98/100\n",
            "759/759 - 1s - loss: 7.8210e-04 - 1s/epoch - 2ms/step\n",
            "Epoch 99/100\n",
            "759/759 - 1s - loss: 7.8707e-04 - 1s/epoch - 2ms/step\n",
            "Epoch 100/100\n",
            "759/759 - 2s - loss: 7.8216e-04 - 2s/epoch - 3ms/step\n"
          ]
        },
        {
          "output_type": "execute_result",
          "data": {
            "text/plain": [
              "<keras.src.callbacks.History at 0x7acebd6894b0>"
            ]
          },
          "metadata": {},
          "execution_count": 11
        }
      ]
    },
    {
      "cell_type": "markdown",
      "source": [
        "# Estimate the RSME of Prediction using LSTM network"
      ],
      "metadata": {
        "id": "h0pa44wvgxn9"
      }
    },
    {
      "cell_type": "code",
      "source": [
        "# Make Predictions\n",
        "trainPredict = model.predict(trainX)\n",
        "testPredict = model.predict(testX)\n",
        "# Invert Predictions\n",
        "trainPredict = scaler.inverse_transform(trainPredict)\n",
        "trainY = scaler.inverse_transform([trainY])\n",
        "testPredict = scaler.inverse_transform(testPredict)\n",
        "testY = scaler.inverse_transform([testY])\n",
        "# Calculate Root Mean Squared Error\n",
        "trainScore = np.sqrt(mean_squared_error(trainY[0], trainPredict[:,0]))\n",
        "print('Train Score: %.2f RMSE' % (trainScore))\n",
        "testScore = np.sqrt(mean_squared_error(testY[0], testPredict[:,0]))\n",
        "print('Test Score: %.2f RMSE' % (testScore))\n"
      ],
      "metadata": {
        "colab": {
          "base_uri": "https://localhost:8080/"
        },
        "id": "9pFb3y7Fc1s6",
        "outputId": "ff273862-c2ab-4ed0-fec1-1a89665a2aa8"
      },
      "execution_count": null,
      "outputs": [
        {
          "output_type": "stream",
          "name": "stdout",
          "text": [
            "24/24 [==============================] - 1s 2ms/step\n",
            "12/12 [==============================] - 0s 2ms/step\n",
            "Train Score: 1.32 RMSE\n",
            "Test Score: 1.00 RMSE\n"
          ]
        }
      ]
    },
    {
      "cell_type": "markdown",
      "source": [
        "# Align Predictions and Plot\n"
      ],
      "metadata": {
        "id": "JqZFriJXg8Sz"
      }
    },
    {
      "cell_type": "code",
      "source": [
        "#Shift Train predictions for plotting\n",
        "trainPredictPlot = np.empty_like(dataset)\n",
        "trainPredictPlot[:, :] = np.nan\n",
        "trainPredictPlot[look_back:len(trainPredict)+look_back, :] = trainPredict\n",
        "#Shift Test Predictions for plotting\n",
        "testPredictPlot = np.empty_like(dataset)\n",
        "testPredictPlot[:, :] = np.nan\n",
        "testPredictPlot[len(trainPredict)+(look_back*2)+1:len(dataset)-1, :] = testPredict\n",
        "#Plot baseline and predictions\n",
        "plt.plot(scaler.inverse_transform(dataset))\n",
        "plt.plot(trainPredictPlot)\n",
        "plt.plot(testPredictPlot)\n",
        "#plt.plot.title('UBER Stock Price Prediction')\n",
        "#plt.set_xlabel('Time')\n",
        "#plt.set_ylabel('UBER Stock Price')\n",
        "plt.legend(['Actual Price', 'Train Prediction', 'Test Prediction'], loc='upper left')\n",
        "plt.figure(figsize=(225, 225))\n",
        "plt.show()"
      ],
      "metadata": {
        "colab": {
          "base_uri": "https://localhost:8080/",
          "height": 447
        },
        "id": "BcS-ycb2ekhq",
        "outputId": "9447b099-bf66-436e-8c39-ee9169d9072d"
      },
      "execution_count": null,
      "outputs": [
        {
          "output_type": "display_data",
          "data": {
            "text/plain": [
              "<Figure size 640x480 with 1 Axes>"
            ],
            "image/png": "[encoded data removed]"
          },
          "metadata": {}
        },
        {
          "output_type": "display_data",
          "data": {
            "text/plain": [
              "<Figure size 22500x22500 with 0 Axes>"
            ]
          },
          "metadata": {}
        }
      ]
    },
    {
      "cell_type": "markdown",
      "source": [
        "#!jupyter nbconvert --to html Stock Index LSTM Network for Regression.ipynb"
      ],
      "metadata": {
        "id": "6GZaW3wJhMjn"
      }
    },
    {
      "cell_type": "code",
      "source": [
        "!jupyter nbconvert --to html Stock_Index_LSTM_Network_for_Regression.ipynb"
      ],
      "metadata": {
        "id": "dNRUSucBiDk5",
        "colab": {
          "base_uri": "https://localhost:8080/"
        },
        "outputId": "c4b19866-4845-4ac4-bf53-e8e81a9b8ac1"
      },
      "execution_count": null,
      "outputs": [
        {
          "output_type": "stream",
          "name": "stdout",
          "text": [
            "[NbConvertApp] Converting notebook Stock_Index_LSTM_Network_for_Regression.ipynb to html\n",
            "[NbConvertApp] Writing 671271 bytes to Stock_Index_LSTM_Network_for_Regression.html\n"
          ]
        }
      ]
    }
  ]
}